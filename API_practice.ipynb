{
 "cells": [
  {
   "cell_type": "code",
   "execution_count": 1,
   "id": "e84cbf08",
   "metadata": {},
   "outputs": [],
   "source": [
    "# Create a practice set of random latitude and longitude combinations.\n",
    "x = [25.12903645, 25.92017388, 26.62509167, -59.98969384, 37.30571269]\n",
    "y = [-67.59741259, 11.09532135, 74.84233102, -76.89176677, -61.13376282]\n",
    "coordinates = zip(x, y)"
   ]
  },
  {
   "cell_type": "code",
   "execution_count": 2,
   "id": "aa0c8a5a",
   "metadata": {},
   "outputs": [],
   "source": [
    "# Use the tuple() function to display the latitude and longitude combination.\n",
    "#for coordinate in coordinates:\n",
    "#    print(coordinate[0], coordinate[1])"
   ]
  },
  {
   "cell_type": "code",
   "execution_count": 3,
   "id": "2784e2d5",
   "metadata": {},
   "outputs": [],
   "source": [
    "# Use the citipy module to determine city based on latitude and longitude.\n",
    "from citipy import citipy"
   ]
  },
  {
   "cell_type": "code",
   "execution_count": 4,
   "id": "d694a3fb",
   "metadata": {},
   "outputs": [
    {
     "name": "stdout",
     "output_type": "stream",
     "text": [
      "cockburn town tc\n",
      "gat ly\n",
      "parvatsar in\n",
      "punta arenas cl\n",
      "saint george bm\n"
     ]
    }
   ],
   "source": [
    "# Use the tuple() function to display the latitude and longitude combination.\n",
    "for coordinate in coordinates:\n",
    "    #print(coordinate[0], coordinate[1])\n",
    "    print(citipy.nearest_city(coordinate[0], coordinate[1]).city_name,\n",
    "          citipy.nearest_city(coordinate[0], coordinate[1]).country_code)"
   ]
  },
  {
   "cell_type": "code",
   "execution_count": 5,
   "id": "6a3acae9",
   "metadata": {},
   "outputs": [],
   "source": [
    "# Import the requests library.\n",
    "import requests\n",
    "\n",
    "# Import the API key.\n",
    "from config import weather_api_key"
   ]
  },
  {
   "cell_type": "code",
   "execution_count": 6,
   "id": "b3c01a47",
   "metadata": {},
   "outputs": [
    {
     "name": "stdout",
     "output_type": "stream",
     "text": [
      "http://api.openweathermap.org/data/2.5/weather?units=Imperial&APPID=80e7df8ebdc2ba76ced93d123dd4b9a2\n"
     ]
    }
   ],
   "source": [
    "# Starting URL for Weather Map API Call.\n",
    "url = \"http://api.openweathermap.org/data/2.5/weather?units=Imperial&APPID=\" + weather_api_key\n",
    "print(url)"
   ]
  },
  {
   "cell_type": "code",
   "execution_count": 7,
   "id": "bdb43498",
   "metadata": {},
   "outputs": [
    {
     "name": "stdout",
     "output_type": "stream",
     "text": [
      "http://api.openweathermap.org/data/2.5/weather?units=Imperial&APPID=80e7df8ebdc2ba76ced93d123dd4b9a2&q=Boston\n"
     ]
    }
   ],
   "source": [
    "# Create an endpoint URL for a city.\n",
    "city_url = url + \"&q=\" + \"Boston\"\n",
    "print(city_url)"
   ]
  },
  {
   "cell_type": "code",
   "execution_count": 8,
   "id": "1ad6a144",
   "metadata": {},
   "outputs": [
    {
     "data": {
      "text/plain": [
       "<Response [200]>"
      ]
     },
     "execution_count": 8,
     "metadata": {},
     "output_type": "execute_result"
    }
   ],
   "source": [
    "# Make a \"Get\" request for the city weather.\n",
    "city_weather = requests.get(city_url)\n",
    "city_weather"
   ]
  },
  {
   "cell_type": "code",
   "execution_count": 9,
   "id": "343da5fc",
   "metadata": {},
   "outputs": [
    {
     "data": {
      "text/plain": [
       "<Response [404]>"
      ]
     },
     "execution_count": 9,
     "metadata": {},
     "output_type": "execute_result"
    }
   ],
   "source": [
    "# Create an endpoint URL for a city.\n",
    "city_url = url + \"&q=\" + \"Bston\"\n",
    "city_weather = requests.get(city_url)\n",
    "city_weather"
   ]
  },
  {
   "cell_type": "code",
   "execution_count": 10,
   "id": "bd210e9e",
   "metadata": {},
   "outputs": [
    {
     "data": {
      "text/plain": [
       "<Response [200]>"
      ]
     },
     "execution_count": 10,
     "metadata": {},
     "output_type": "execute_result"
    }
   ],
   "source": [
    "# Create an endpoint URL for a city.\n",
    "city_url = url + \"&q=\" + \"Boston\"\n",
    "city_weather = requests.get(city_url)\n",
    "city_weather"
   ]
  },
  {
   "cell_type": "code",
   "execution_count": 11,
   "id": "4f576126",
   "metadata": {},
   "outputs": [
    {
     "data": {
      "text/plain": [
       "'{\"coord\":{\"lon\":-71.0598,\"lat\":42.3584},\"weather\":[{\"id\":800,\"main\":\"Clear\",\"description\":\"clear sky\",\"icon\":\"01d\"}],\"base\":\"stations\",\"main\":{\"temp\":37.36,\"feels_like\":29.12,\"temp_min\":34.41,\"temp_max\":37.36,\"pressure\":1007,\"humidity\":54,\"sea_level\":1007,\"grnd_level\":1006},\"visibility\":10000,\"wind\":{\"speed\":13.06,\"deg\":286,\"gust\":26.19},\"clouds\":{\"all\":6},\"dt\":1638046442,\"sys\":{\"type\":1,\"id\":4210,\"country\":\"US\",\"sunrise\":1638013791,\"sunset\":1638047668},\"timezone\":-18000,\"id\":4930956,\"name\":\"Boston\",\"cod\":200}'"
      ]
     },
     "execution_count": 11,
     "metadata": {},
     "output_type": "execute_result"
    }
   ],
   "source": [
    "# Get the text of the 'Get' request.\n",
    "city_weather.text"
   ]
  },
  {
   "cell_type": "code",
   "execution_count": 12,
   "id": "5f6e87e3",
   "metadata": {},
   "outputs": [
    {
     "data": {
      "text/plain": [
       "{'coord': {'lon': -71.0598, 'lat': 42.3584},\n",
       " 'weather': [{'id': 800,\n",
       "   'main': 'Clear',\n",
       "   'description': 'clear sky',\n",
       "   'icon': '01d'}],\n",
       " 'base': 'stations',\n",
       " 'main': {'temp': 37.36,\n",
       "  'feels_like': 29.12,\n",
       "  'temp_min': 34.41,\n",
       "  'temp_max': 37.36,\n",
       "  'pressure': 1007,\n",
       "  'humidity': 54,\n",
       "  'sea_level': 1007,\n",
       "  'grnd_level': 1006},\n",
       " 'visibility': 10000,\n",
       " 'wind': {'speed': 13.06, 'deg': 286, 'gust': 26.19},\n",
       " 'clouds': {'all': 6},\n",
       " 'dt': 1638046442,\n",
       " 'sys': {'type': 1,\n",
       "  'id': 4210,\n",
       "  'country': 'US',\n",
       "  'sunrise': 1638013791,\n",
       "  'sunset': 1638047668},\n",
       " 'timezone': -18000,\n",
       " 'id': 4930956,\n",
       " 'name': 'Boston',\n",
       " 'cod': 200}"
      ]
     },
     "execution_count": 12,
     "metadata": {},
     "output_type": "execute_result"
    }
   ],
   "source": [
    "# Get the JSON text of the 'Get' request.\n",
    "city_weather.json()"
   ]
  },
  {
   "cell_type": "code",
   "execution_count": 16,
   "id": "4872c2ef",
   "metadata": {},
   "outputs": [
    {
     "name": "stdout",
     "output_type": "stream",
     "text": [
      "City Weather found.\n"
     ]
    }
   ],
   "source": [
    "# Create an endpoint URL for a city.\n",
    "city_url = url + \"&q=\" + \"Boston\"\n",
    "city_weather = requests.get(city_url)\n",
    "if city_weather.status_code == 200:\n",
    "    print(f\"City Weather found.\")\n",
    "else:\n",
    "    print(f\"City weather not found.\")"
   ]
  },
  {
   "cell_type": "code",
   "execution_count": 17,
   "id": "6164f725",
   "metadata": {},
   "outputs": [
    {
     "name": "stdout",
     "output_type": "stream",
     "text": [
      "City weather not found.\n"
     ]
    }
   ],
   "source": [
    "# Create an endpoint URL for a city.\n",
    "city_url = url + \"&q=\" + \"Bston\"\n",
    "city_weather = requests.get(city_url)\n",
    "if city_weather.status_code == 200:\n",
    "    print(f\"City Weather found.\")\n",
    "else:\n",
    "    print(f\"City weather not found.\")"
   ]
  },
  {
   "cell_type": "code",
   "execution_count": 18,
   "id": "9b357474",
   "metadata": {},
   "outputs": [
    {
     "name": "stdout",
     "output_type": "stream",
     "text": [
      "http://api.openweathermap.org/data/2.5/weather?units=Imperial&APPID=80e7df8ebdc2ba76ced93d123dd4b9a2&q=Bston\n"
     ]
    }
   ],
   "source": [
    "print(city_url)"
   ]
  },
  {
   "cell_type": "code",
   "execution_count": 20,
   "id": "09d93be7",
   "metadata": {},
   "outputs": [
    {
     "data": {
      "text/plain": [
       "{'coord': {'lon': -71.0598, 'lat': 42.3584},\n",
       " 'weather': [{'id': 800,\n",
       "   'main': 'Clear',\n",
       "   'description': 'clear sky',\n",
       "   'icon': '01d'}],\n",
       " 'base': 'stations',\n",
       " 'main': {'temp': 36.46,\n",
       "  'feels_like': 27.32,\n",
       "  'temp_min': 33.64,\n",
       "  'temp_max': 37.85,\n",
       "  'pressure': 1006,\n",
       "  'humidity': 44},\n",
       " 'visibility': 10000,\n",
       " 'wind': {'speed': 14.97, 'deg': 280, 'gust': 26.46},\n",
       " 'clouds': {'all': 1},\n",
       " 'dt': 1638047098,\n",
       " 'sys': {'type': 1,\n",
       "  'id': 3486,\n",
       "  'country': 'US',\n",
       "  'sunrise': 1638013791,\n",
       "  'sunset': 1638047668},\n",
       " 'timezone': -18000,\n",
       " 'id': 4930956,\n",
       " 'name': 'Boston',\n",
       " 'cod': 200}"
      ]
     },
     "execution_count": 20,
     "metadata": {},
     "output_type": "execute_result"
    }
   ],
   "source": [
    "# Create an endpoint URL for a city.\n",
    "city_url = url + \"&q=\" + \"Boston\"\n",
    "city_weather = requests.get(city_url)\n",
    "city_weather.json()"
   ]
  },
  {
   "cell_type": "code",
   "execution_count": 21,
   "id": "012c9fb0",
   "metadata": {},
   "outputs": [],
   "source": [
    "# Get the JSON data.\n",
    "boston_data = city_weather.json()"
   ]
  },
  {
   "cell_type": "code",
   "execution_count": 22,
   "id": "b5a744fa",
   "metadata": {},
   "outputs": [
    {
     "data": {
      "text/plain": [
       "{'type': 1,\n",
       " 'id': 3486,\n",
       " 'country': 'US',\n",
       " 'sunrise': 1638013791,\n",
       " 'sunset': 1638047668}"
      ]
     },
     "execution_count": 22,
     "metadata": {},
     "output_type": "execute_result"
    }
   ],
   "source": [
    "boston_data[\"sys\"]"
   ]
  },
  {
   "cell_type": "code",
   "execution_count": 23,
   "id": "59f6c585",
   "metadata": {},
   "outputs": [
    {
     "data": {
      "text/plain": [
       "'US'"
      ]
     },
     "execution_count": 23,
     "metadata": {},
     "output_type": "execute_result"
    }
   ],
   "source": [
    "boston_data[\"sys\"][\"country\"]"
   ]
  },
  {
   "cell_type": "code",
   "execution_count": 25,
   "id": "b2908f0a",
   "metadata": {},
   "outputs": [
    {
     "name": "stdout",
     "output_type": "stream",
     "text": [
      "42.3584 -71.0598 37.85 44 1 14.97\n"
     ]
    }
   ],
   "source": [
    "lat = boston_data[\"coord\"][\"lat\"]\n",
    "lng = boston_data[\"coord\"][\"lon\"]\n",
    "max_temp = boston_data[\"main\"][\"temp_max\"]\n",
    "humidity = boston_data[\"main\"][\"humidity\"]\n",
    "clouds = boston_data[\"clouds\"][\"all\"]\n",
    "wind = boston_data[\"wind\"][\"speed\"]\n",
    "print(lat, lng, max_temp, humidity, clouds, wind)"
   ]
  },
  {
   "cell_type": "code",
   "execution_count": 27,
   "id": "8542ce24",
   "metadata": {},
   "outputs": [
    {
     "data": {
      "text/plain": [
       "'2021-11-27 21:04:58'"
      ]
     },
     "execution_count": 27,
     "metadata": {},
     "output_type": "execute_result"
    }
   ],
   "source": [
    "# Import the datetime module from the datetime library.\n",
    "from datetime import datetime\n",
    "\n",
    "# Get the data from the JSON file.\n",
    "date = boston_data[\"dt\"]\n",
    "\n",
    "# Convert the UTC date to a date format with the year, month, day, hours, minutes and seconds.\n",
    "datetime.utcfromtimestamp(date).strftime('%Y-%m-%d %H:%M:%S')"
   ]
  },
  {
   "cell_type": "code",
   "execution_count": null,
   "id": "c55911f7",
   "metadata": {},
   "outputs": [],
   "source": []
  }
 ],
 "metadata": {
  "kernelspec": {
   "display_name": "PythonData",
   "language": "python",
   "name": "pythondata"
  },
  "language_info": {
   "codemirror_mode": {
    "name": "ipython",
    "version": 3
   },
   "file_extension": ".py",
   "mimetype": "text/x-python",
   "name": "python",
   "nbconvert_exporter": "python",
   "pygments_lexer": "ipython3",
   "version": "3.7.10"
  }
 },
 "nbformat": 4,
 "nbformat_minor": 5
}
